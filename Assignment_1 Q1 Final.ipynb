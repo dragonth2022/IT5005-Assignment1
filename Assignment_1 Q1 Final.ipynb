{
 "cells": [
  {
   "cell_type": "markdown",
   "metadata": {
    "id": "k9xpmwePTNOe"
   },
   "source": [
    "Group Name: AG 13\n",
    "\n",
    "Student Name (Student ID):\n",
    "\n",
    "1. Zhao Yufan (A0255971U)\n",
    "\n",
    "2. Nayanthara Prathap Menon (A0261939R)\n",
    "\n",
    "3. Valeriy Ivanov (A0228607B)"
   ]
  },
  {
   "cell_type": "markdown",
   "metadata": {
    "id": "A6Fict0bTNOg"
   },
   "source": [
    "# Question 1\n",
    "\n",
    "Consider the maze shown below. The Maze has 16 rows and 24 columns The objective is to find a shortest path from cell $S$ to cell $G$.\n",
    "\n",
    "\n",
    "![Maze](Maze_Assignment_1.jpg)\n",
    "\n",
    "\n",
    "The agent can take four actions in each cell: 'RIGHT', 'DOWN', 'UP', 'LEFT'.  \n",
    "\n",
    "Each cell is represented as $(x,y)$, where $x$ indicates row number and $y$ indicates column number. Action 'UP' takes the agent from cell $(x,y)$ to $(x+1,y)$. Action 'DOWN' takes the agent from cell $(x,y)$ to $(x-1,y)$. Action 'RIGHT' takes the agent from cell $(x,y)$ to $(x,y+1)$. Action 'LEFT' takes the agent from cell $(x,y)$ to $(x,y-1)$. The triplet $(s,a,s')$  indicates that taking action $a$ at state $s$ leads to state $s'$. Actions 'LEFT' or 'RIGHT' cost 10 units for all $(s,a,s')$. Actions 'UP' or 'DOWN' cost 1 unit for all  $(s,a,s')$.  The agent cannot move into cells that are shaded. Assume that the agent knows the boundaries of the maze and has full observability. Consequently, at the bottom (row 0) and top (row 15), the agent will not take actions 'DOWN' and 'UP', respectively; at left (column 0) and right (column 23) columns, the agent will not take 'LEFT' and 'RIGHT' actions, respectively. Similalry, the agent will not take actions that lead to shaded region in the maze.\n",
    "\n",
    "## **Q1.a: Class Maze(Problem)** [3 Marks]\n",
    "\n",
    "Write a Maze class to create a model for this problem. You should not use an explicit state space model. The modelling should inherit the abstract class 'Problem' (given below). With the problem formulation, find the shortest path from S to G cell. Propose and implement multiple heuristics (at least two heuristics) for informed search algorithms. "
   ]
  },
  {
   "cell_type": "markdown",
   "metadata": {
    "id": "rzTo7twzTNOh"
   },
   "source": [
    "## **Q1.b: Analysis of the Algorithms** [7 Marks]\n",
    "\n",
    "1. Solve the above Maze problem using the following algorithms\n",
    "\n",
    "    a. Breadth-First Search\n",
    "\n",
    "    b. Depth-First Search with Cycle-Check\n",
    "\n",
    "    c. Iterative-Deepening Search with Cycle-Check\n",
    "\n",
    "    d. Uniform-Cost Search\n",
    "\n",
    "    e. A* Search \n",
    "\n",
    "    f. Greedy Best-first Search\n",
    "\n",
    "    g. Any other variants for search algorithms that are not discussed in the class (bonus/optional question) \n",
    "\n",
    "2. Identify the number of nodes generated, number of nodes expanded, maximum frontier size, and path-cost for the above algorithms. \n",
    " \n",
    "3. Compare the performance of informed search algorithms with proposed heuristics. Identify the best performing heuristic and explain.\n",
    " \n",
    "4. Draw a bar plot comparing the statistics of the algorithms and explain the results. \n",
    "\n",
    "Note 1: You must follow the problem formulation discussed in the class. A abstract class for Problem amd Node definition is presented below. The search tree generation should follow the template discussed in the class (i.e., Node class, expand methods, etc.). \n",
    "\n",
    "Note 2: If you are borrowing a block of code (for example, helper functions or data structures, etc.) from AIMA4e repository, you have to acknowledge it in the code. \n",
    "\n",
    "Note 3: The code should be written in a single jupyter notebook file."
   ]
  },
  {
   "cell_type": "markdown",
   "metadata": {},
   "source": [
    "$\\textbf{All helper functions, templates, and data structure implementations were taken from the AIMA4e python repository.}$"
   ]
  },
  {
   "cell_type": "code",
   "execution_count": 180,
   "metadata": {
    "id": "f6yuGXosTNOh"
   },
   "outputs": [],
   "source": [
    "import sys\n",
    "from collections import deque\n",
    "import math\n",
    "\n",
    "class Problem:\n",
    "    \"\"\"The abstract class for a formal problem. A new domain subclasses this,\n",
    "    overriding `actions` and `results`, and perhaps other methods.\n",
    "    The default heuristic is 0 and the default action cost is 1 for all states.\n",
    "    When you create an instance of a subclass, specify `initial`, and `goal` states \n",
    "    (or give an `is_goal` method) and perhaps other keyword args for the subclass.\"\"\"\n",
    "\n",
    "    def __init__(self, initial=None, goal=None, **kwds): \n",
    "        self.__dict__.update(initial=initial, goal=goal, **kwds) \n",
    "        \n",
    "    def actions(self, state):        raise NotImplementedError\n",
    "    def result(self, state, action): raise NotImplementedError\n",
    "    def is_goal(self, state):        return state == self.goal\n",
    "    def action_cost(self, s, a, s1): return 1\n",
    "    def h(self, node):               return 0\n",
    "    \n",
    "    def __str__(self):\n",
    "        return '{}({!r}, {!r})'.format(\n",
    "            type(self).__name__, self.initial, self.goal)"
   ]
  },
  {
   "cell_type": "code",
   "execution_count": 181,
   "metadata": {
    "id": "a6MXMGmFTNOi"
   },
   "outputs": [],
   "source": [
    "# Use the following Node class to generate search tree\n",
    "import math\n",
    "class Node:\n",
    "\n",
    "    \"\"\"A node in a search tree. Contains a pointer to the parent (the node\n",
    "    that this is a successor of) and to the actual state for this node. Note\n",
    "    that if a state is arrived at by two paths, then there are two nodes with\n",
    "    the same state.  Also includes the action that got us to this state, and\n",
    "    the total path_cost (also known as g) to reach the node.  Other functions\n",
    "    may add an f and h value; see best_first_graph_search and astar_search for\n",
    "    an explanation of how the f and h values are handled. You will not need to\n",
    "    subclass this class.\"\"\"\n",
    "\n",
    "    def __init__(self, state, parent=None, action=None, path_cost = 0):\n",
    "        \"\"\"Create a search tree Node, derived from a parent by an action.\"\"\"\n",
    "        self.state = state\n",
    "        self.parent = parent\n",
    "        self.action = action\n",
    "        self.path_cost = path_cost\n",
    "        self.depth = 0\n",
    "        if parent:\n",
    "            self.depth = parent.depth + 1\n",
    "\n",
    "    def __repr__(self):\n",
    "        return \"<Node {}>\".format(self.state)\n",
    "    \n",
    "    def __len__(self): return 0 if self.parent is None else (1 + len(self.parent))\n",
    "\n",
    "    def __lt__(self, node):\n",
    "        return self.path_cost < node.path_cost\n",
    "\n",
    "    def expand(self , problem):\n",
    "        \"\"\"List the nodes reachable in one step from this node.\"\"\"\n",
    "        return [self.child_node(problem, action)\n",
    "                for action in problem.actions(self.state)]\n",
    "\n",
    "    def child_node(self, problem, action):\n",
    "        \"\"\"[Figure 3.10]\"\"\"\n",
    "        next_state = problem.result(self.state, action)\n",
    "        next_node = Node(next_state,parent=self,action=action,path_cost=problem.action_cost(self.state , action, next_state)+self.path_cost)\n",
    "\n",
    "        return next_node\n",
    "    \n",
    "    def solution(self):\n",
    "        \"\"\"Return the sequence of actions to go from the root to this node.\"\"\"\n",
    "        return [node.action for node in self.path()[1:]]\n",
    "\n",
    "    def path(self):\n",
    "        \"\"\"Return a list of nodes forming the path from the root to this node.\"\"\"\n",
    "        node, path_back = self, []\n",
    "        while node:\n",
    "            path_back.append(node)\n",
    "            node = node.parent\n",
    "        return list(reversed(path_back))\n",
    "\n",
    "    # We want for a queue of nodes in breadth_first_graph_search or\n",
    "    # astar_search to have no duplicated states, so we treat nodes\n",
    "    # with the same state as equal. [Problem: this may not be what you\n",
    "    # want in other contexts.]\n",
    "\n",
    "    def __eq__(self, other):\n",
    "        return isinstance(other, Node) and self.state == other.state\n",
    "\n",
    "    def __hash__(self):\n",
    "        return hash(self.state)"
   ]
  },
  {
   "cell_type": "code",
   "execution_count": 182,
   "metadata": {
    "id": "esVWkEVl4iJL"
   },
   "outputs": [],
   "source": [
    "def is_in(elt, seq):\n",
    "#\"\"\"Similar to (elt in seq), but compares with 'is', not '=='.\"\"\"\n",
    "  return any(x is elt for x in seq)"
   ]
  },
  {
   "cell_type": "code",
   "execution_count": 183,
   "metadata": {
    "id": "as7ucHW2TNOj"
   },
   "outputs": [],
   "source": [
    "class Maze(Problem):\n",
    "    #Your code goes here\n",
    "    #We are implementing a maze with an agent inside, with specified starting position and goal\n",
    "    def __init__(self , width: int  , height: int , initial: tuple , goal: tuple):\n",
    "        self.width = width\n",
    "        self.height = height\n",
    "        self.walls = []  #the coordinates of the unpassable squares\n",
    "        self.initial = initial\n",
    "        self.pos = initial #current position of agent\n",
    "        self.goal = goal\n",
    "    \n",
    "    def actions(self, state: tuple):\n",
    "        actions = {'UP' , 'DOWN' , 'RIGHT' , 'LEFT'}\n",
    "        \n",
    "        #remove moves that moves agent out of maze boundary\n",
    "        if state[0] == self.width:\n",
    "            actions.remove('RIGHT')\n",
    "        if state[0] == 0:\n",
    "            actions.remove('LEFT')        \n",
    "        if state[1] == self.height:\n",
    "            actions.remove('UP')\n",
    "        if state[1] == 0:\n",
    "            actions.remove('DOWN')\n",
    "            \n",
    "        #remove moves that moves agent into the walls\n",
    "        if (state[0] - 1 , state[1]) in self.walls:\n",
    "            actions.remove('LEFT')  \n",
    "        if (state[0] + 1 , state[1]) in self.walls:\n",
    "            actions.remove('RIGHT')\n",
    "        if (state[0] , state[1] - 1) in self.walls:\n",
    "            actions.remove('DOWN')\n",
    "        if (state[0] , state[1] + 1) in self.walls:\n",
    "            actions.remove('UP')   \n",
    "            \n",
    "        #remove all moves if we somehow end up in the wall\n",
    "        if (state[0] , state[1]) in self.walls:\n",
    "            actions.remove('UP' , 'DOWN' , 'RIGHT' , 'LEFT')      \n",
    "        \n",
    "        return actions\n",
    "    \n",
    "    \n",
    "    \n",
    "    def result(self, state, action):\n",
    "        if action == 'UP':\n",
    "            return (state[0],state[1] + 1)\n",
    "        elif action == 'DOWN':\n",
    "            return (state[0],state[1] - 1)\n",
    "        elif action == 'LEFT':\n",
    "            return (state[0] - 1,state[1])\n",
    "        elif action == 'RIGHT':\n",
    "            return (state[0] + 1,state[1])\n",
    "        \n",
    "    def action_cost(self, s, a, s1): \n",
    "        if a == 'LEFT' or a == 'RIGHT':\n",
    "            return 10\n",
    "        elif a == 'UP' or a == 'DOWN':\n",
    "            return 1\n",
    "\n",
    "\n",
    "    def goal_test(self, state):\n",
    "    #\"\"\"Return True if the state is a goal. The default method compares the\n",
    "    #state to self.goal or checks for state in self.goal if it is a\n",
    "    #list, as specified in the constructor. Override this method if\n",
    "    #checking against a single self.goal is not enough.\"\"\"\n",
    "      if isinstance(self.goal, list):\n",
    "          return is_in(state, self.goal)\n",
    "      else:\n",
    "          return state == self.goal\n",
    "\n",
    "    \n",
    "    #By inspection, the shortest path has length 12\n",
    "    #The path is hugging the bottom side of the wall and going around it\n",
    "    \n",
    "    #First Heuristic based on L1Norm, or Taxicab distance from state to goal\n",
    "    def h1(self, node):\n",
    "        \n",
    "        \n",
    "        def L1Norm(a,b):\n",
    "            if len(a) != len(b):\n",
    "                raise ValueError('dimension mismatch')\n",
    "                \n",
    "            distance = 10*abs(a[0] - b[0]) + abs(a[1] - b[1])\n",
    "            \n",
    "            return distance\n",
    "        \n",
    "        return L1Norm(node.state , self.goal)\n",
    "    \n",
    "    \n",
    "    #Second Heuristic based on L Infinity Norm, or max absolute difference in the coordinates\n",
    "    \n",
    "    def h2(self, node):\n",
    "        \n",
    "        def LInfNorm(a,b):\n",
    "        \n",
    "            if len(a) != len(b):\n",
    "                raise ValueError('dimension mismatch')\n",
    "            \n",
    "        \n",
    "            distance = max(10*abs(a[0] - b[0]) , abs(a[1] - b[1]))\n",
    "                \n",
    "            return distance\n",
    "        \n",
    "        return LInfNorm(node.state , self.goal)"
   ]
  },
  {
   "cell_type": "code",
   "execution_count": 184,
   "metadata": {
    "id": "B6YOPo22TNOk"
   },
   "outputs": [],
   "source": [
    "def breadth_first_tree_search(problem):\n",
    "\n",
    "\n",
    "    frontier = deque([Node(problem.initial, parent = None, action = problem.actions(problem.initial), path_cost = 0)])  # FIFO queue\n",
    "\n",
    "    while frontier:\n",
    "        # and len(frontier) < 50\n",
    "        #print(f'{frontier} \\n')\n",
    "        node = frontier.popleft()\n",
    "        if problem.goal == node.state:\n",
    "            return node\n",
    "        frontier.extend(node.expand(problem))\n",
    "        try:\n",
    "            frontier.remove(node.parent)\n",
    "        except ValueError:\n",
    "            continue\n",
    "        \n",
    "    return None"
   ]
  },
  {
   "cell_type": "code",
   "execution_count": 6,
   "metadata": {
    "colab": {
     "base_uri": "https://localhost:8080/",
     "height": 355
    },
    "id": "HbLelKP-TNOk",
    "outputId": "e3621e68-e4a2-4918-b87a-679b0fd69fac"
   },
   "outputs": [
    {
     "ename": "KeyboardInterrupt",
     "evalue": "",
     "output_type": "error",
     "traceback": [
      "\u001b[1;31m---------------------------------------------------------------------------\u001b[0m",
      "\u001b[1;31mKeyboardInterrupt\u001b[0m                         Traceback (most recent call last)",
      "\u001b[1;32m~\\AppData\\Local\\Temp\\ipykernel_28964\\3912694762.py\u001b[0m in \u001b[0;36m<module>\u001b[1;34m\u001b[0m\n\u001b[0;32m      8\u001b[0m \u001b[0mmazeproblem\u001b[0m\u001b[1;33m.\u001b[0m\u001b[0mwalls\u001b[0m \u001b[1;33m=\u001b[0m \u001b[0mwalls\u001b[0m\u001b[1;33m\u001b[0m\u001b[1;33m\u001b[0m\u001b[0m\n\u001b[0;32m      9\u001b[0m \u001b[1;33m\u001b[0m\u001b[0m\n\u001b[1;32m---> 10\u001b[1;33m \u001b[0mbreadth_first_tree_search\u001b[0m\u001b[1;33m(\u001b[0m\u001b[0mmazeproblem\u001b[0m\u001b[1;33m)\u001b[0m\u001b[1;33m\u001b[0m\u001b[1;33m\u001b[0m\u001b[0m\n\u001b[0m",
      "\u001b[1;32m~\\AppData\\Local\\Temp\\ipykernel_28964\\1690864335.py\u001b[0m in \u001b[0;36mbreadth_first_tree_search\u001b[1;34m(problem)\u001b[0m\n\u001b[0;32m     12\u001b[0m         \u001b[0mfrontier\u001b[0m\u001b[1;33m.\u001b[0m\u001b[0mextend\u001b[0m\u001b[1;33m(\u001b[0m\u001b[0mnode\u001b[0m\u001b[1;33m.\u001b[0m\u001b[0mexpand\u001b[0m\u001b[1;33m(\u001b[0m\u001b[0mproblem\u001b[0m\u001b[1;33m)\u001b[0m\u001b[1;33m)\u001b[0m\u001b[1;33m\u001b[0m\u001b[1;33m\u001b[0m\u001b[0m\n\u001b[0;32m     13\u001b[0m         \u001b[1;32mtry\u001b[0m\u001b[1;33m:\u001b[0m\u001b[1;33m\u001b[0m\u001b[1;33m\u001b[0m\u001b[0m\n\u001b[1;32m---> 14\u001b[1;33m             \u001b[0mfrontier\u001b[0m\u001b[1;33m.\u001b[0m\u001b[0mremove\u001b[0m\u001b[1;33m(\u001b[0m\u001b[0mnode\u001b[0m\u001b[1;33m.\u001b[0m\u001b[0mparent\u001b[0m\u001b[1;33m)\u001b[0m\u001b[1;33m\u001b[0m\u001b[1;33m\u001b[0m\u001b[0m\n\u001b[0m\u001b[0;32m     15\u001b[0m         \u001b[1;32mexcept\u001b[0m \u001b[0mValueError\u001b[0m\u001b[1;33m:\u001b[0m\u001b[1;33m\u001b[0m\u001b[1;33m\u001b[0m\u001b[0m\n\u001b[0;32m     16\u001b[0m             \u001b[1;32mcontinue\u001b[0m\u001b[1;33m\u001b[0m\u001b[1;33m\u001b[0m\u001b[0m\n",
      "\u001b[1;32m~\\AppData\\Local\\Temp\\ipykernel_28964\\105363517.py\u001b[0m in \u001b[0;36m__eq__\u001b[1;34m(self, other)\u001b[0m\n\u001b[0;32m     60\u001b[0m \u001b[1;33m\u001b[0m\u001b[0m\n\u001b[0;32m     61\u001b[0m     \u001b[1;32mdef\u001b[0m \u001b[0m__eq__\u001b[0m\u001b[1;33m(\u001b[0m\u001b[0mself\u001b[0m\u001b[1;33m,\u001b[0m \u001b[0mother\u001b[0m\u001b[1;33m)\u001b[0m\u001b[1;33m:\u001b[0m\u001b[1;33m\u001b[0m\u001b[1;33m\u001b[0m\u001b[0m\n\u001b[1;32m---> 62\u001b[1;33m         \u001b[1;32mreturn\u001b[0m \u001b[0misinstance\u001b[0m\u001b[1;33m(\u001b[0m\u001b[0mother\u001b[0m\u001b[1;33m,\u001b[0m \u001b[0mNode\u001b[0m\u001b[1;33m)\u001b[0m \u001b[1;32mand\u001b[0m \u001b[0mself\u001b[0m\u001b[1;33m.\u001b[0m\u001b[0mstate\u001b[0m \u001b[1;33m==\u001b[0m \u001b[0mother\u001b[0m\u001b[1;33m.\u001b[0m\u001b[0mstate\u001b[0m\u001b[1;33m\u001b[0m\u001b[1;33m\u001b[0m\u001b[0m\n\u001b[0m\u001b[0;32m     63\u001b[0m \u001b[1;33m\u001b[0m\u001b[0m\n\u001b[0;32m     64\u001b[0m     \u001b[1;32mdef\u001b[0m \u001b[0m__hash__\u001b[0m\u001b[1;33m(\u001b[0m\u001b[0mself\u001b[0m\u001b[1;33m)\u001b[0m\u001b[1;33m:\u001b[0m\u001b[1;33m\u001b[0m\u001b[1;33m\u001b[0m\u001b[0m\n",
      "\u001b[1;31mKeyboardInterrupt\u001b[0m: "
     ]
    }
   ],
   "source": [
    "#This will not run in a reasonable amount of time.\n",
    "#keyboard interrupt when tired of waiting.\n",
    "\n",
    "#Specific instance of maze problem given in the jpg file:\n",
    "\n",
    "walls = [(9,6),(9,7),(9,8),(9,9),(9,10),(10,10),(10,11),(10,12),(10,13),(9,14),(12,10),(12,11),(13,11),(13,10)]\n",
    "mazeproblem = Maze( 23  , 15 , (10,8) , (9,11))\n",
    "mazeproblem.walls = walls\n",
    "\n",
    "breadth_first_tree_search(mazeproblem)"
   ]
  },
  {
   "cell_type": "markdown",
   "metadata": {
    "id": "YCcuByatTNOl"
   },
   "source": [
    "Analysis of Breadth First Search Algorithm:\n",
    "\n",
    "The Breadth First Search Algorithm is extremely inefficient because it revisits the same node again and again. It could not return a solution in a reasonable amount of time. The branching factor of each node is 3 (if the node.state is not adjacent to a wall). By inspection, the solution node has depth 14, so we can expand up to 3^14 nodes to reach the solution (which cannot be done in a reasonable amount of time). This algorithm has exponential time and space complexity.\n",
    "\n",
    "We can resolve this issue by keeping track of which states (positions in the maze) that the agent has already visited, and do not expand any nodes corresponding to those states. Delete these nodes from the frontier deque immediately. This algorithm is called Breadth First Graph Search, and we implement it below:\n",
    "\n"
   ]
  },
  {
   "cell_type": "code",
   "execution_count": 185,
   "metadata": {
    "id": "yfs7CLd2TNOl"
   },
   "outputs": [],
   "source": [
    "def breadth_first_graph_search(problem):\n",
    "\n",
    "\n",
    "    frontier = deque([Node(problem.initial, parent = None, action = problem.actions(problem.initial), path_cost = 0)])  # FIFO queue\n",
    "    explored = set()\n",
    "    \n",
    "    while frontier:\n",
    "        # and len(frontier) < 50\n",
    "        #print(f'{frontier} \\n')\n",
    "        node = frontier.popleft()\n",
    "        explored.add(node.state)\n",
    "        \n",
    "        for child in node.expand(problem):\n",
    "            if child.state not in explored and child not in frontier:\n",
    "                if problem.goal == child.state:\n",
    "                    return child\n",
    "                frontier.append(child)\n",
    "    \n",
    "    #if we reach here, it means that we have visited all reachable states, and none of them was the goal state\n",
    "    return 'Solution not found'"
   ]
  },
  {
   "cell_type": "markdown",
   "metadata": {
    "id": "7rT2KcvaTNOl"
   },
   "source": [
    "The next function returns a list of moves to be taken and the path cost of the moves, when given a maze problem. The moves are found using the Breadth First Graph Search algorithm. Our instance of the maze will be called 'mazeproblem', with class 'Maze' and superclass 'Problem'."
   ]
  },
  {
   "cell_type": "code",
   "execution_count": 186,
   "metadata": {
    "id": "DgGfPobqTNOl"
   },
   "outputs": [],
   "source": [
    "def bfgsSolution(problem):\n",
    "    solution = breadth_first_graph_search(problem)\n",
    "    if solution == 'Solution not found':\n",
    "        return solution\n",
    "    output = []\n",
    "    current = solution\n",
    "    while current != problem.initial and current != None:\n",
    "        output.append(current.action)\n",
    "        current = current.parent\n",
    "    output.remove(output[-1])\n",
    "    output.reverse()\n",
    "    output.append(solution.path_cost)\n",
    "    return output\n"
   ]
  },
  {
   "cell_type": "code",
   "execution_count": 187,
   "metadata": {
    "id": "WZWFpEINTNOm"
   },
   "outputs": [],
   "source": [
    "#We remind ourselves again what the problem is:\n",
    "\n",
    "walls = [(9,6),(9,7),(9,8),(9,9),(9,10),(10,10),(10,11),(10,12),(10,13),(9,14),(12,10),(12,11),(13,11),(13,10)]\n",
    "mazeproblem = Maze( 23  , 15 , (10,8) , (9,11))\n",
    "mazeproblem.walls = walls"
   ]
  },
  {
   "cell_type": "markdown",
   "metadata": {
    "id": "nNrd_XvLTNOm"
   },
   "source": [
    "By inspection, the shortest path has length=12 and path cost=39. The path is hugging the bottom side of the wall and going around it."
   ]
  },
  {
   "cell_type": "code",
   "execution_count": 188,
   "metadata": {
    "colab": {
     "base_uri": "https://localhost:8080/"
    },
    "id": "qwe4PnhCTNOm",
    "outputId": "c981c2dc-6656-45f7-a9f9-94429f706214"
   },
   "outputs": [
    {
     "data": {
      "text/plain": [
       "['DOWN',\n",
       " 'DOWN',\n",
       " 'DOWN',\n",
       " 'LEFT',\n",
       " 'LEFT',\n",
       " 'UP',\n",
       " 'UP',\n",
       " 'UP',\n",
       " 'UP',\n",
       " 'UP',\n",
       " 'UP',\n",
       " 'RIGHT',\n",
       " 39]"
      ]
     },
     "execution_count": 188,
     "metadata": {},
     "output_type": "execute_result"
    }
   ],
   "source": [
    "bfgsSolution(mazeproblem)"
   ]
  },
  {
   "cell_type": "markdown",
   "metadata": {
    "id": "j9UOojxrTNOm"
   },
   "source": [
    "This produces the same path as the one we found by visual inspection. So the algorithm is working correctly. Since this algorithm has cycle check, it does not visit the same state twice.\n",
    "Analysis:\n",
    "\n",
    "$\\textbf{Worst case for Time Complexity:}$ The algorithm visits every square on the maze map before arriving at the goal. This happens when the initial and goal states are on opposite corners of the map, and the walls are arranged in a way that forces the agent to take a snake like path.\n",
    "\n",
    "Conclusion: The worst case time-complexity is linear in number of squares that can be visited.\n",
    "\n",
    "$\\textbf{Worst case for Space Complexity:}$ The main memory usage are the deque data structure used to store the frontier, and the set data structure used to store visited nodes. The size of set will never exceed the number of visitable squares in the maze. It can reach the maximum size if all squares are visited before reaching goal state, so the worst case space complexity is at least linear in number of squares that can be visited.\n",
    "\n",
    "The deque data structure keeps track of the frontier, and the frontier is always a subset of the set of all squares in the maze, so deque cannot have a higher space complexity than linear.\n",
    "\n",
    "Conclusion: The worst case space-complexity is linear in number of visitable squares.\n",
    "\n",
    "$\\textbf{Completeness:}$ Since the algorithm allows the agent to visit every single reachable state, the algorithm is guaranteed to find a solution when there is one. It will also correctly report failure when no solution exists.\n",
    "\n",
    "Conclusion: Algorithm is complete.\n",
    "\n",
    "$\\textbf{Cost optimality:}$ From the path costs given (10 for horizontal movement, 1 for vertical movement) it is clear that we want to minimize horizontal movement. The path cost for the solution given is 39 with only 3 horizontal moves, the smallest possible. However, we cannot guarantee cost optimality for all instances of the Maze problem (possibly with different wall configurations, initial and goal states) since we did not account for costs when expanding nodes.\n",
    "\n",
    "Conclusion: Algorithm is cost optimal for this instance of maze. Cost optimality not guaranteed for all instances."
   ]
  },
  {
   "cell_type": "markdown",
   "metadata": {
    "id": "fFx7_kkvTNOm"
   },
   "source": [
    "Next, we examine the Depth First Search with Cycle-Check algorithm, otherwise known as Depth First Graph Search in the notes. The code is given below:"
   ]
  },
  {
   "cell_type": "code",
   "execution_count": 189,
   "metadata": {
    "id": "3Ty83oxrTNOm"
   },
   "outputs": [],
   "source": [
    "def depth_first_graph_search(problem):\n",
    "\n",
    "    frontier = [Node(problem.initial, parent = None, action = problem.actions(problem.initial), path_cost = 0)]  # Stack\n",
    "\n",
    "    explored = set()\n",
    "    while frontier:\n",
    "        node = frontier.pop()\n",
    "        explored.add(node.state)\n",
    "        \n",
    "        if problem.goal == node.state:\n",
    "            return node\n",
    "        \n",
    "        for child in node.expand(problem):\n",
    "            if child.state not in explored and child not in frontier:\n",
    "                frontier.append(child)\n",
    "        \n",
    "        \n",
    "    return 'Solution not found'\n",
    "\n",
    "\n",
    "def dfgsSolution(problem):\n",
    "    solution = depth_first_graph_search(problem)\n",
    "    if solution == 'Solution not found':\n",
    "        return solution\n",
    "    output = []\n",
    "    current = solution\n",
    "    while current != problem.initial and current != None:\n",
    "        output.append(current.action)\n",
    "        current = current.parent\n",
    "    output.remove(output[-1])\n",
    "    output.reverse()\n",
    "    output.append(solution.path_cost)\n",
    "    return output"
   ]
  },
  {
   "cell_type": "code",
   "execution_count": 190,
   "metadata": {
    "id": "KXsbOlVaTNOn",
    "outputId": "15bb8a95-8535-40a7-e8f6-b2a381ebcb43"
   },
   "outputs": [
    {
     "data": {
      "text/plain": [
       "['UP',\n",
       " 'RIGHT',\n",
       " 'UP',\n",
       " 'UP',\n",
       " 'UP',\n",
       " 'UP',\n",
       " 'UP',\n",
       " 'UP',\n",
       " 'LEFT',\n",
       " 'LEFT',\n",
       " 'LEFT',\n",
       " 'LEFT',\n",
       " 'LEFT',\n",
       " 'LEFT',\n",
       " 'LEFT',\n",
       " 'LEFT',\n",
       " 'LEFT',\n",
       " 'LEFT',\n",
       " 'LEFT',\n",
       " 'DOWN',\n",
       " 'DOWN',\n",
       " 'DOWN',\n",
       " 'DOWN',\n",
       " 'DOWN',\n",
       " 'DOWN',\n",
       " 'DOWN',\n",
       " 'DOWN',\n",
       " 'DOWN',\n",
       " 'DOWN',\n",
       " 'DOWN',\n",
       " 'DOWN',\n",
       " 'DOWN',\n",
       " 'DOWN',\n",
       " 'DOWN',\n",
       " 'RIGHT',\n",
       " 'RIGHT',\n",
       " 'UP',\n",
       " 'UP',\n",
       " 'UP',\n",
       " 'UP',\n",
       " 'UP',\n",
       " 'UP',\n",
       " 'UP',\n",
       " 'UP',\n",
       " 'UP',\n",
       " 'UP',\n",
       " 'UP',\n",
       " 'UP',\n",
       " 'UP',\n",
       " 'RIGHT',\n",
       " 'RIGHT',\n",
       " 'DOWN',\n",
       " 'DOWN',\n",
       " 'DOWN',\n",
       " 'DOWN',\n",
       " 'DOWN',\n",
       " 'DOWN',\n",
       " 'DOWN',\n",
       " 'DOWN',\n",
       " 'DOWN',\n",
       " 'DOWN',\n",
       " 'DOWN',\n",
       " 'DOWN',\n",
       " 'DOWN',\n",
       " 'RIGHT',\n",
       " 'RIGHT',\n",
       " 'UP',\n",
       " 'UP',\n",
       " 'UP',\n",
       " 'UP',\n",
       " 'UP',\n",
       " 'UP',\n",
       " 'UP',\n",
       " 'UP',\n",
       " 'UP',\n",
       " 'UP',\n",
       " 'UP',\n",
       " 'UP',\n",
       " 'UP',\n",
       " 'RIGHT',\n",
       " 'RIGHT',\n",
       " 'DOWN',\n",
       " 'DOWN',\n",
       " 'RIGHT',\n",
       " 273]"
      ]
     },
     "execution_count": 190,
     "metadata": {},
     "output_type": "execute_result"
    }
   ],
   "source": [
    "dfgsSolution(mazeproblem)"
   ]
  },
  {
   "cell_type": "markdown",
   "metadata": {
    "id": "ytrr0ozlTNOn"
   },
   "source": [
    "This produces a path of with cost = 461, so it is clearly not the optimal path. The path is going right all the way to the right-boundary,, move up 5 squares, move left till we hit the wall, move up 3 squares to the top-boundary, move left to the left-boundary, move down 4 squares, then move right to goal.\n",
    "\n",
    "While this algorithm also has cycle check, it is still not optimal.\n",
    "Analysis:\n",
    "\n",
    "$\\textbf{Worst case for Time Complexity:}$ The algorithm visits every square on the maze map before arriving at the goal. This happens when the initial and goal states are on opposite corners of the map, and the walls are arranged in a way that forces the agent to take a snake like path.\n",
    "\n",
    "Conclusion: The worst case time-complexity is linear in number of squares that can be visited.\n",
    "\n",
    "$\\textbf{Worst case for Space Complexity:}$ The main memory usage are the list data structure used to store the frontier, and the set data structure used to store visited nodes. The size of set will never exceed the number of squares in the maze. It can reach the maximum size if all squares are visited before reaching goal state, so the worst case space complexity is at least linear in number of squares that can be visited.\n",
    "\n",
    "The list data structure keeps track of the frontier, and the frontier is always a subset of the set of all squares in the maze, so list cannot have a higher space complexity than linear.\n",
    "\n",
    "Conclusion: The worst case space-complexity is linear in number of squares that can be visited.\n",
    "\n",
    "$\\textbf{Completeness:}$ Since the algorithm allows the agent to visit every single reachable state, the algorithm is guaranteed to find a solution when there is one. It will also correctly report failure when no solution exists.\n",
    "\n",
    "Conclusion: Algorithm is complete.\n",
    "\n",
    "$\\textbf{Cost optimality:}$ Algorithm is clearly not cost optimal. We have already found a path with cost = 39 using Breadth First Graph Search. So our new path here with cost = 461 is clearly not cost optimal.\n",
    "\n",
    "Conclusion: Algorithm is not cost optimal."
   ]
  },
  {
   "cell_type": "markdown",
   "metadata": {},
   "source": [
    "$\\textbf{A* Search and Greedy Best-first Search}$:\n",
    "We now examine the Greedy Best-first Search and A* Search algorithms with the 2 heuristics we have defined above.\n",
    "\n",
    "The first heuristic $h1$ is based on L1 Norm, or Taxicab distance from state to goal. Given two points (a,b) and (x,y), the taxicab distance between (a,b) and (x,y) is the sum of the absolute value of the difference of each coordinate. i.e. $$L1Distance((a,b) , (x,y)) = |a-x| + |b-y|$$.\n",
    "\n",
    "\n",
    "The second heuristic $h2$ is based on L-Infinity Norm, from state to goal. Given two points (a,b) and (x,y), the L-Infinity Norm distance between (a,b) and (x,y) is the maximum of the absolute value of the difference of each coordinate. i.e. $$LInfDistance((a,b) , (x,y)) = max(|a-x| , |b-y|)$$.\n",
    "\n",
    "We first define the data structures and helper functions needed:\n"
   ]
  },
  {
   "cell_type": "code",
   "execution_count": 191,
   "metadata": {
    "id": "w7JW0htp333f"
   },
   "outputs": [],
   "source": [
    "import heapq"
   ]
  },
  {
   "cell_type": "code",
   "execution_count": 192,
   "metadata": {
    "id": "6z78GvB-3UP3"
   },
   "outputs": [],
   "source": [
    "class PriorityQueue:\n",
    "    \"\"\"A Queue in which the minimum (or maximum) element (as determined by f and\n",
    "    order) is returned first.\n",
    "    If order is 'min', the item with minimum f(x) is\n",
    "    returned first; if order is 'max', then it is the item with maximum f(x).\n",
    "    Also supports dict-like lookup.\"\"\"\n",
    "\n",
    "    def __init__(self, order='min', f=lambda x: x):\n",
    "        self.heap = []\n",
    "        if order == 'min':\n",
    "            self.f = f\n",
    "        elif order == 'max':  # now item with max f(x)\n",
    "            self.f = lambda x: -f(x)  # will be popped first\n",
    "        else:\n",
    "            raise ValueError(\"Order must be either 'min' or 'max'.\")\n",
    "\n",
    "    def append(self, item):\n",
    "        \"\"\"Insert item at its correct position.\"\"\"\n",
    "        heapq.heappush(self.heap, (self.f(item), item))\n",
    "\n",
    "    def extend(self, items):\n",
    "        \"\"\"Insert each item in items at its correct position.\"\"\"\n",
    "        for item in items:\n",
    "            self.append(item)\n",
    "\n",
    "    def pop(self):\n",
    "        \"\"\"Pop and return the item (with min or max f(x) value)\n",
    "        depending on the order.\"\"\"\n",
    "        if self.heap:\n",
    "            return heapq.heappop(self.heap)[1]\n",
    "        else:\n",
    "            raise Exception('Trying to pop from empty PriorityQueue.')\n",
    "\n",
    "    def __len__(self):\n",
    "        \"\"\"Return current capacity of PriorityQueue.\"\"\"\n",
    "        return len(self.heap)\n",
    "\n",
    "    def __contains__(self, key):\n",
    "        \"\"\"Return True if the key is in PriorityQueue.\"\"\"\n",
    "        return any([item == key for _, item in self.heap])\n",
    "\n",
    "    def __getitem__(self, key):\n",
    "        \"\"\"Returns the first value associated with key in PriorityQueue.\n",
    "        Raises KeyError if key is not present.\"\"\"\n",
    "        for value, item in self.heap:\n",
    "            if item == key:\n",
    "                return value\n",
    "        raise KeyError(str(key) + \" is not in the priority queue\")\n",
    "\n",
    "    def __delitem__(self, key):\n",
    "        \"\"\"Delete the first occurrence of key.\"\"\"\n",
    "        try:\n",
    "            del self.heap[[item == key for _, item in self.heap].index(True)]\n",
    "        except ValueError:\n",
    "            raise KeyError(str(key) + \" is not in the priority queue\")\n",
    "        heapq.heapify(self.heap)\n"
   ]
  },
  {
   "cell_type": "code",
   "execution_count": 193,
   "metadata": {
    "id": "fKf4QDVw1PoZ"
   },
   "outputs": [],
   "source": [
    "def memoize(fn, slot=None, maxsize=32):\n",
    "    \"\"\"Memoize fn: make it remember the computed value for any argument list.\n",
    "    If slot is specified, store result in that slot of first argument.\n",
    "    If slot is false, use lru_cache for caching the values.\"\"\"\n",
    "    if slot:\n",
    "        def memoized_fn(obj, *args):\n",
    "            if hasattr(obj, slot):\n",
    "                return getattr(obj, slot)\n",
    "            else:\n",
    "                val = fn(obj, *args)\n",
    "                setattr(obj, slot, val)\n",
    "                return val\n",
    "    else:\n",
    "        @functools.lru_cache(maxsize=maxsize)\n",
    "        def memoized_fn(*args):\n",
    "            return fn(*args)\n",
    "\n",
    "    return memoized_fn"
   ]
  },
  {
   "cell_type": "markdown",
   "metadata": {},
   "source": [
    "We then define and run the algorithms:"
   ]
  },
  {
   "cell_type": "code",
   "execution_count": 194,
   "metadata": {
    "id": "gXyCil5iTNOn"
   },
   "outputs": [],
   "source": [
    "def best_first_graph_search(problem, f, display=False):\n",
    "    \"\"\"Search the nodes with the lowest f scores first.\n",
    "    You specify the function f(node) that you want to minimize; for example,\n",
    "    if f is a heuristic estimate to the goal, then we have greedy best\n",
    "    first search; if f is node.depth then we have breadth-first search.\n",
    "    There is a subtlety: the line \"f = memoize(f, 'f')\" means that the f\n",
    "    values will be cached on the nodes as they are computed. So after doing\n",
    "    a best first search you can examine the f values of the path returned.\"\"\"\n",
    "    f = memoize(f, 'f')\n",
    "    node = Node(problem.initial)\n",
    "    frontier = PriorityQueue('min', f)\n",
    "    frontier.append(node)\n",
    "    explored = set()\n",
    "    while frontier:\n",
    "        node = frontier.pop()\n",
    "        if problem.goal_test(node.state):\n",
    "            if display:\n",
    "                print(len(explored), \"paths have been expanded and\", len(frontier), \"paths remain in the frontier\")\n",
    "            return node\n",
    "        explored.add(node.state)\n",
    "        for child in node.expand(problem):\n",
    "            if child.state not in explored and child not in frontier:\n",
    "                frontier.append(child)\n",
    "            elif child in frontier:\n",
    "                if f(child) < frontier[child]:\n",
    "                    del frontier[child]\n",
    "                    frontier.append(child)\n",
    "    return 'Solution not found'"
   ]
  },
  {
   "cell_type": "code",
   "execution_count": 195,
   "metadata": {
    "id": "6OgWCgGU15eP"
   },
   "outputs": [],
   "source": [
    "def gbfsSolution(problem, f):\n",
    "    solution = best_first_graph_search(problem, f)\n",
    "    if solution == 'Solution not found':\n",
    "        return solution\n",
    "    output = []\n",
    "    current = solution\n",
    "    while current != problem.initial and current != None:\n",
    "        output.append(current.action)\n",
    "        current = current.parent\n",
    "    output.remove(output[-1])\n",
    "    output.reverse()\n",
    "    output.append(solution.path_cost)\n",
    "    return output"
   ]
  },
  {
   "cell_type": "code",
   "execution_count": 196,
   "metadata": {
    "colab": {
     "base_uri": "https://localhost:8080/"
    },
    "id": "o3oTPkO618tD",
    "outputId": "25eb5625-5fa4-4bb2-dc30-94da6d967f00"
   },
   "outputs": [
    {
     "data": {
      "text/plain": [
       "['DOWN',\n",
       " 'DOWN',\n",
       " 'DOWN',\n",
       " 'LEFT',\n",
       " 'LEFT',\n",
       " 'UP',\n",
       " 'UP',\n",
       " 'UP',\n",
       " 'UP',\n",
       " 'UP',\n",
       " 'UP',\n",
       " 'RIGHT',\n",
       " 39]"
      ]
     },
     "execution_count": 196,
     "metadata": {},
     "output_type": "execute_result"
    }
   ],
   "source": [
    "gbfsSolution(mazeproblem, mazeproblem.h1)"
   ]
  },
  {
   "cell_type": "code",
   "execution_count": 197,
   "metadata": {
    "colab": {
     "base_uri": "https://localhost:8080/"
    },
    "id": "M9E2l6Sk4_4h",
    "outputId": "ad849369-49a2-493a-e61f-ff0eb9d5b6dd"
   },
   "outputs": [
    {
     "data": {
      "text/plain": [
       "['DOWN',\n",
       " 'DOWN',\n",
       " 'DOWN',\n",
       " 'LEFT',\n",
       " 'LEFT',\n",
       " 'UP',\n",
       " 'UP',\n",
       " 'UP',\n",
       " 'UP',\n",
       " 'UP',\n",
       " 'UP',\n",
       " 'RIGHT',\n",
       " 39]"
      ]
     },
     "execution_count": 197,
     "metadata": {},
     "output_type": "execute_result"
    }
   ],
   "source": [
    "gbfsSolution(mazeproblem, mazeproblem.h2)"
   ]
  },
  {
   "cell_type": "code",
   "execution_count": 198,
   "metadata": {
    "id": "wLPBRAJA50c-"
   },
   "outputs": [],
   "source": [
    "def astar_search(problem, h, display=False):\n",
    "    \"\"\"A* search is best-first graph search with f(n) = g(n)+h(n).\n",
    "    You need to specify the h function when you call astar_search, or\n",
    "    else in your Problem subclass.\"\"\"\n",
    "    h = memoize(h or problem.h, 'h')\n",
    "    return best_first_graph_search(problem, lambda n: n.path_cost + h(n), display)"
   ]
  },
  {
   "cell_type": "code",
   "execution_count": 199,
   "metadata": {
    "id": "pCT5Wmau7OJ3"
   },
   "outputs": [],
   "source": [
    "def astar_search_Solution(problem, h):\n",
    "    solution = astar_search(problem, h, display=False)\n",
    "    if solution == 'Solution not found':\n",
    "        return solution\n",
    "    output = []\n",
    "    current = solution\n",
    "    while current != problem.initial and current != None:\n",
    "        output.append(current.action)\n",
    "        current = current.parent\n",
    "    output.remove(output[-1])\n",
    "    output.reverse()\n",
    "    output.append(solution.path_cost)\n",
    "    return output"
   ]
  },
  {
   "cell_type": "code",
   "execution_count": 200,
   "metadata": {
    "colab": {
     "base_uri": "https://localhost:8080/"
    },
    "id": "iUrLDbjJ7hRH",
    "outputId": "5c9451e1-9b74-4bb5-e41a-d91f883fd7e5"
   },
   "outputs": [
    {
     "data": {
      "text/plain": [
       "['DOWN',\n",
       " 'DOWN',\n",
       " 'DOWN',\n",
       " 'LEFT',\n",
       " 'LEFT',\n",
       " 'UP',\n",
       " 'UP',\n",
       " 'UP',\n",
       " 'UP',\n",
       " 'UP',\n",
       " 'UP',\n",
       " 'RIGHT',\n",
       " 39]"
      ]
     },
     "execution_count": 200,
     "metadata": {},
     "output_type": "execute_result"
    }
   ],
   "source": [
    "astar_search_Solution(mazeproblem, mazeproblem.h1)"
   ]
  },
  {
   "cell_type": "markdown",
   "metadata": {},
   "source": [
    "$\\textbf{Worst case for Time Complexity:}$ Both algorithsm can visit every square on the maze map before arriving at the goal. This happens when the initial and goal states are on opposite corners of the map, and the walls are arranged in a way that forces the agent to take a snake like path.\n",
    "\n",
    "Conclusion: For both algorithms, the worst case time-complexity is linear in number of squares that can be visited.\n",
    "\n",
    "$\\textbf{Worst case for Space Complexity:}$ The main memory usage are the priority queue data structure used to store the frontier, and the set data structure used to store visited nodes. The size of set will never exceed the number of squares in the maze. It can reach the maximum size if all squares are visited before reaching goal state, so the worst case space complexity is at least linear in number of squares that can be visited.\n",
    "\n",
    "The priority queue data structure keeps track of the frontier, and the frontier is always a subset of the set of all squares in the maze, so priority queue cannot have a higher space complexity than linear.\n",
    "\n",
    "Conclusion: For both algorithms, the worst case space-complexity is linear in number of squares that can be visited.\n",
    "\n",
    "$\\textbf{Completeness:}$ Both algorithms can visit all possible squares, they only prioritize certain squares according to their defined behaviour and the heuristics h1 and h2. Hence, both algorithms are complete. They will also report failure to find solution if that is the case.\n",
    "\n",
    "Conclusion: Both algorithms are complete.\n",
    "\n",
    "$\\textbf{Cost optimality:}$ Both algorithms returned the optimal path in this instance.\n",
    "\n",
    "Conclusion: Both algorithm are cost optimal."
   ]
  },
  {
   "cell_type": "markdown",
   "metadata": {},
   "source": [
    "$\\textbf{Uniform Cost Search and Iterative Deepening Search with Cycle Check}$\n",
    "\n",
    "We now examine these two algorithms."
   ]
  },
  {
   "cell_type": "code",
   "execution_count": 201,
   "metadata": {},
   "outputs": [],
   "source": [
    "#Uniform Cost Search\n",
    "\n",
    "def uniform_cost_search(problem):\n",
    "    \n",
    "    return best_first_graph_search(problem, lambda n: n.path_cost)"
   ]
  },
  {
   "cell_type": "code",
   "execution_count": 202,
   "metadata": {},
   "outputs": [
    {
     "data": {
      "text/plain": [
       "<Node (9, 11)>"
      ]
     },
     "execution_count": 202,
     "metadata": {},
     "output_type": "execute_result"
    }
   ],
   "source": [
    "uniform_cost_search(mazeproblem)"
   ]
  },
  {
   "cell_type": "code",
   "execution_count": 203,
   "metadata": {},
   "outputs": [],
   "source": [
    "def uniform_cost_search_solution(problem):\n",
    "    solution = uniform_cost_search(problem)\n",
    "    if solution == 'Solution not found':\n",
    "        return solution\n",
    "    output = []\n",
    "    current = solution\n",
    "    while current != problem.initial and current != None:\n",
    "        output.append(current.action)\n",
    "        current = current.parent\n",
    "    output.remove(output[-1])\n",
    "    output.reverse()\n",
    "    output.append(solution.path_cost)\n",
    "    return output"
   ]
  },
  {
   "cell_type": "code",
   "execution_count": 204,
   "metadata": {},
   "outputs": [
    {
     "data": {
      "text/plain": [
       "['DOWN',\n",
       " 'DOWN',\n",
       " 'DOWN',\n",
       " 'LEFT',\n",
       " 'LEFT',\n",
       " 'UP',\n",
       " 'UP',\n",
       " 'UP',\n",
       " 'UP',\n",
       " 'UP',\n",
       " 'UP',\n",
       " 'RIGHT',\n",
       " 39]"
      ]
     },
     "execution_count": 204,
     "metadata": {},
     "output_type": "execute_result"
    }
   ],
   "source": [
    "uniform_cost_search_solution(mazeproblem)"
   ]
  },
  {
   "cell_type": "code",
   "execution_count": 205,
   "metadata": {},
   "outputs": [],
   "source": [
    "def is_cycle(node, k=30):\n",
    "    \"Does this node form a cycle of length k or less?\"\n",
    "    def find_cycle(ancestor, k):\n",
    "        return (ancestor is not None and k > 0 and\n",
    "                (ancestor.state == node.state or find_cycle(ancestor.parent, k - 1)))\n",
    "    return find_cycle(node.parent, k)\n"
   ]
  },
  {
   "cell_type": "code",
   "execution_count": 206,
   "metadata": {},
   "outputs": [],
   "source": [
    "def depth_limited_search(problem, limit=10):\n",
    "    \"Search deepest nodes in the search tree first.\"\n",
    "    '''\n",
    "    LIFOQueue = list\n",
    "    '''\n",
    "    frontier = [Node(problem.initial)]\n",
    "    \n",
    "    result = 'failure'\n",
    "    while frontier:\n",
    "        node = frontier.pop()\n",
    "        if problem.is_goal(node.state):\n",
    "            return node\n",
    "        elif node.depth >= limit:\n",
    "            result = 'Solution not found'\n",
    "        elif not is_cycle(node):\n",
    "            for child in node.expand(problem):\n",
    "                frontier.append(child)\n",
    "    return result"
   ]
  },
  {
   "cell_type": "code",
   "execution_count": 207,
   "metadata": {},
   "outputs": [],
   "source": [
    "def iterative_deepening_search(problem, maxdepth = 50):\n",
    "    \"Do depth-limited search with increasing depth limits.\"\n",
    "    for i in range(1, maxdepth + 1):\n",
    "        result = depth_limited_search(problem, limit = i)\n",
    "        if result != 'Solution not found' and result != 'failure':\n",
    "            return result\n",
    "    return 'Solution not found within given maximum depth'"
   ]
  },
  {
   "cell_type": "code",
   "execution_count": 208,
   "metadata": {},
   "outputs": [
    {
     "data": {
      "text/plain": [
       "<Node (9, 11)>"
      ]
     },
     "execution_count": 208,
     "metadata": {},
     "output_type": "execute_result"
    }
   ],
   "source": [
    "depth_limited_search(mazeproblem, limit = 12)"
   ]
  },
  {
   "cell_type": "code",
   "execution_count": 209,
   "metadata": {},
   "outputs": [],
   "source": [
    "def iterative_deepening_search_solution(problem, maxlimit = 10):\n",
    "    solution = iterative_deepening_search(problem , maxdepth = maxlimit)\n",
    "    if solution == 'Solution not found':\n",
    "        return solution\n",
    "    output = []\n",
    "    current = solution\n",
    "    while current != problem.initial and current != None:\n",
    "        output.append(current.action)\n",
    "        current = current.parent\n",
    "    output.remove(output[-1])\n",
    "    output.reverse()\n",
    "    output.append(solution.path_cost)\n",
    "    return output"
   ]
  },
  {
   "cell_type": "code",
   "execution_count": 210,
   "metadata": {},
   "outputs": [
    {
     "data": {
      "text/plain": [
       "<Node (9, 11)>"
      ]
     },
     "execution_count": 210,
     "metadata": {},
     "output_type": "execute_result"
    }
   ],
   "source": [
    "iterative_deepening_search(mazeproblem, maxdepth = 12)"
   ]
  },
  {
   "cell_type": "code",
   "execution_count": 211,
   "metadata": {},
   "outputs": [
    {
     "data": {
      "text/plain": [
       "['DOWN',\n",
       " 'DOWN',\n",
       " 'DOWN',\n",
       " 'LEFT',\n",
       " 'LEFT',\n",
       " 'UP',\n",
       " 'UP',\n",
       " 'UP',\n",
       " 'UP',\n",
       " 'UP',\n",
       " 'UP',\n",
       " 'RIGHT',\n",
       " 39]"
      ]
     },
     "execution_count": 211,
     "metadata": {},
     "output_type": "execute_result"
    }
   ],
   "source": [
    "iterative_deepening_search_solution(mazeproblem, maxlimit = 12)"
   ]
  },
  {
   "cell_type": "markdown",
   "metadata": {},
   "source": [
    "$\\textbf{Worst case for Time Complexity:}$ Both algorithms expand nodes in an order that makes the agent visit every square on the maze map before arriving at the goal. This worst case can be achieved: by setting the initial and goal states on opposite corners of the map, and arrange the walls in a way that forces the agent to take a snake like path through all the squares.\n",
    "\n",
    "Moreover, iterative deepening search can expand the top level nodes repeatedly (via depth limited search) for each iteration. The worst case is when the solution is at maximum possible depth, again by having the agent visit all possible squares.\n",
    "\n",
    "Conclusion: For uniform cost search, the worst case time-complexity is linear in number of squares that can be visited. For iterative deepening search, the worst case time-complexity is quadratic in number of squares that can be visited.\n",
    "\n",
    "$\\textbf{Worst case for Space Complexity:}$ Uniform cost search is effectively best first graph search with a fixed cost function. Hence, it is worst case space complexity is linear in number of squares that can be visited. \n",
    "\n",
    "For iterative deepening search, the main memory usage is the list structure keeping track of the frontier. Not every square can be the frontier at a certain depth. Intuitively, the set of squares that can be frontiers at a given depth is the set of squares that have L0-Norm (taxicab metric) distance = depth from the initial starting square. The L0-norm was a heuristic used in the A*-search. Due to properties of the L0-Norm, the maximum number of squares in the frontier scales linearly with the depth. The worst case is achieved when there are no walls and the map is a square. \n",
    "\n",
    "Conclusion: The space-complexity for uniform cost search is linear in number of squares that can be visited. The space-complexity for iterative deepening search is linear with respect to the length of the map. (square root of the total number of squares.)\n",
    "\n",
    "$\\textbf{Completeness:}$ Both algorithms can visit all possible squares, hence both algorithms are complete. They will also report failure to find solution if that is the case.\n",
    "\n",
    "Conclusion: Both algorithms are complete.\n",
    "\n",
    "$\\textbf{Cost optimality:}$ Both algorithms returned the optimal path in this instance. However, only the uniform cost search takes into account the cost. Iterative deepening search can product a non cost-optimal path if that path is at a lower depth than the cost-optimal path. One such possibility is having an L shaped wall with a long vertical component but a short horizontal one. Set the starting point at the corner of the L shaped wall, and the goal at the corner on the other side. Moving vertically around the top of the L shaped wall produces a longer path but smaller cost as compared to going horizontally to the side. This is because horizontal movements incur 10-times the cost compared to vertical movements.\n",
    "\n",
    "Uniform cost search is always cost optimal because it always makes moves that incurs a lower total cost first before making higher cost moves.\n",
    "\n",
    "Conclusion: Both algorithm are cost optimal in this instance, but there are instances where iterative deepening search is not. Uniform cost search is always cost optimal."
   ]
  }
 ],
 "metadata": {
  "colab": {
   "provenance": []
  },
  "kernelspec": {
   "display_name": "Python 3 (ipykernel)",
   "language": "python",
   "name": "python3"
  },
  "language_info": {
   "codemirror_mode": {
    "name": "ipython",
    "version": 3
   },
   "file_extension": ".py",
   "mimetype": "text/x-python",
   "name": "python",
   "nbconvert_exporter": "python",
   "pygments_lexer": "ipython3",
   "version": "3.8.3"
  },
  "vscode": {
   "interpreter": {
    "hash": "85c6d5c81e07e5df96d46470b5f31cdc60bf99937c21eb8030f5ac9c2291ee2f"
   }
  }
 },
 "nbformat": 4,
 "nbformat_minor": 1
}
